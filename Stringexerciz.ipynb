{
 "cells": [
  {
   "cell_type": "markdown",
   "id": "b399247e",
   "metadata": {},
   "source": [
    "# move position of index "
   ]
  },
  {
   "cell_type": "code",
   "execution_count": 2,
   "id": "096af219",
   "metadata": {},
   "outputs": [],
   "source": [
    "a='This is My First Python programming class and i am learNING python string and its function'"
   ]
  },
  {
   "cell_type": "code",
   "execution_count": 3,
   "id": "786ef5a1",
   "metadata": {},
   "outputs": [
    {
     "data": {
      "text/plain": [
       "'his is My First Python programming class and i am learNING python string and its function'"
      ]
     },
     "execution_count": 3,
     "metadata": {},
     "output_type": "execute_result"
    }
   ],
   "source": [
    "a[1:300]"
   ]
  },
  {
   "cell_type": "code",
   "execution_count": 4,
   "id": "ecfaf3b0",
   "metadata": {},
   "outputs": [
    {
     "data": {
      "text/plain": [
       "'h   r tnrrmglsnimeNGyosi dtfco'"
      ]
     },
     "execution_count": 4,
     "metadata": {},
     "output_type": "execute_result"
    }
   ],
   "source": [
    "a[1:300:3]"
   ]
  },
  {
   "cell_type": "markdown",
   "id": "2c85ddac",
   "metadata": {},
   "source": [
    "#  string without using reverse() function"
   ]
  },
  {
   "cell_type": "code",
   "execution_count": 5,
   "id": "ad3bb156",
   "metadata": {},
   "outputs": [
    {
     "data": {
      "text/plain": [
       "'noitcnuf sti dna gnirts nohtyp GNINrael ma i dna ssalc gnimmargorp nohtyP tsriF yM si sihT'"
      ]
     },
     "execution_count": 5,
     "metadata": {},
     "output_type": "execute_result"
    }
   ],
   "source": [
    "a[::-1]"
   ]
  },
  {
   "cell_type": "markdown",
   "id": "eb708b9c",
   "metadata": {},
   "source": [
    "# split()"
   ]
  },
  {
   "cell_type": "code",
   "execution_count": 7,
   "id": "51240649",
   "metadata": {},
   "outputs": [
    {
     "data": {
      "text/plain": [
       "['This',\n",
       " 'is',\n",
       " 'My',\n",
       " 'First',\n",
       " 'Python',\n",
       " 'programming',\n",
       " 'class',\n",
       " 'and',\n",
       " 'i',\n",
       " 'am',\n",
       " 'learNING',\n",
       " 'python',\n",
       " 'string',\n",
       " 'and',\n",
       " 'its',\n",
       " 'function']"
      ]
     },
     "execution_count": 7,
     "metadata": {},
     "output_type": "execute_result"
    }
   ],
   "source": [
    "a.split()"
   ]
  },
  {
   "cell_type": "markdown",
   "id": "218bd235",
   "metadata": {},
   "source": [
    "# lower()  upper()"
   ]
  },
  {
   "cell_type": "code",
   "execution_count": 6,
   "id": "b0e863ef",
   "metadata": {},
   "outputs": [
    {
     "data": {
      "text/plain": [
       "'THIS IS MY FIRST PYTHON PROGRAMMING CLASS AND I AM LEARNING PYTHON STRING AND ITS FUNCTION'"
      ]
     },
     "execution_count": 6,
     "metadata": {},
     "output_type": "execute_result"
    }
   ],
   "source": [
    "a.upper()"
   ]
  },
  {
   "cell_type": "code",
   "execution_count": 8,
   "id": "20441d0e",
   "metadata": {},
   "outputs": [
    {
     "data": {
      "text/plain": [
       "'this is my first python programming class and i am learning python string and its function'"
      ]
     },
     "execution_count": 8,
     "metadata": {},
     "output_type": "execute_result"
    }
   ],
   "source": [
    "a.lower()"
   ]
  },
  {
   "cell_type": "code",
   "execution_count": 9,
   "id": "160e7bd2",
   "metadata": {},
   "outputs": [
    {
     "data": {
      "text/plain": [
       "'This is my first python programming class and i am learning python string and its function'"
      ]
     },
     "execution_count": 9,
     "metadata": {},
     "output_type": "execute_result"
    }
   ],
   "source": [
    "a.capitalize()"
   ]
  },
  {
   "cell_type": "markdown",
   "id": "0e20aba7",
   "metadata": {},
   "source": [
    "# isalnum()   isalpha()   isnumeric()"
   ]
  },
  {
   "cell_type": "code",
   "execution_count": 10,
   "id": "24fed1b7",
   "metadata": {},
   "outputs": [],
   "source": [
    "b='1234'\n"
   ]
  },
  {
   "cell_type": "code",
   "execution_count": 12,
   "id": "1d95bb0f",
   "metadata": {},
   "outputs": [
    {
     "data": {
      "text/plain": [
       "'1234'"
      ]
     },
     "execution_count": 12,
     "metadata": {},
     "output_type": "execute_result"
    }
   ],
   "source": [
    "b"
   ]
  },
  {
   "cell_type": "code",
   "execution_count": 13,
   "id": "30089226",
   "metadata": {},
   "outputs": [],
   "source": [
    "b='adfdaf'"
   ]
  },
  {
   "cell_type": "code",
   "execution_count": 14,
   "id": "945a495e",
   "metadata": {},
   "outputs": [
    {
     "data": {
      "text/plain": [
       "True"
      ]
     },
     "execution_count": 14,
     "metadata": {},
     "output_type": "execute_result"
    }
   ],
   "source": [
    "b.isalpha()"
   ]
  },
  {
   "cell_type": "code",
   "execution_count": 15,
   "id": "8b470f36",
   "metadata": {},
   "outputs": [],
   "source": [
    "b=\"789809\"\n"
   ]
  },
  {
   "cell_type": "code",
   "execution_count": 17,
   "id": "7597a95c",
   "metadata": {},
   "outputs": [
    {
     "data": {
      "text/plain": [
       "True"
      ]
     },
     "execution_count": 17,
     "metadata": {},
     "output_type": "execute_result"
    }
   ],
   "source": [
    "b.isnumeric()"
   ]
  },
  {
   "cell_type": "code",
   "execution_count": 18,
   "id": "b51fb9ca",
   "metadata": {},
   "outputs": [],
   "source": [
    "c=\"ajsjdk\"\n"
   ]
  },
  {
   "cell_type": "code",
   "execution_count": 19,
   "id": "5be1a020",
   "metadata": {},
   "outputs": [
    {
     "data": {
      "text/plain": [
       "True"
      ]
     },
     "execution_count": 19,
     "metadata": {},
     "output_type": "execute_result"
    }
   ],
   "source": [
    "c.isalpha()"
   ]
  },
  {
   "cell_type": "code",
   "execution_count": 20,
   "id": "4621207b",
   "metadata": {},
   "outputs": [],
   "source": [
    "d=\"kdfjioj4938\""
   ]
  },
  {
   "cell_type": "code",
   "execution_count": 22,
   "id": "1377e7de",
   "metadata": {},
   "outputs": [
    {
     "data": {
      "text/plain": [
       "True"
      ]
     },
     "execution_count": 22,
     "metadata": {},
     "output_type": "execute_result"
    }
   ],
   "source": [
    "d.isalnum()"
   ]
  },
  {
   "cell_type": "markdown",
   "id": "338ed74f",
   "metadata": {},
   "source": [
    "# \"strip\""
   ]
  },
  {
   "cell_type": "code",
   "execution_count": 23,
   "id": "23c926a6",
   "metadata": {},
   "outputs": [],
   "source": [
    "e=\"     ankita    \"\n"
   ]
  },
  {
   "cell_type": "code",
   "execution_count": 26,
   "id": "9b4ce61a",
   "metadata": {},
   "outputs": [
    {
     "data": {
      "text/plain": [
       "'ankita'"
      ]
     },
     "execution_count": 26,
     "metadata": {},
     "output_type": "execute_result"
    }
   ],
   "source": [
    "e.strip()"
   ]
  },
  {
   "cell_type": "code",
   "execution_count": 27,
   "id": "3a9d9d20",
   "metadata": {},
   "outputs": [
    {
     "data": {
      "text/plain": [
       "'ankita    '"
      ]
     },
     "execution_count": 27,
     "metadata": {},
     "output_type": "execute_result"
    }
   ],
   "source": [
    "e.lstrip()"
   ]
  },
  {
   "cell_type": "code",
   "execution_count": 28,
   "id": "ea22aa05",
   "metadata": {},
   "outputs": [
    {
     "data": {
      "text/plain": [
       "'     ankita'"
      ]
     },
     "execution_count": 28,
     "metadata": {},
     "output_type": "execute_result"
    }
   ],
   "source": [
    "e.rstrip()"
   ]
  },
  {
   "cell_type": "code",
   "execution_count": 29,
   "id": "b1da9cbf",
   "metadata": {},
   "outputs": [],
   "source": [
    "f=\"Tara\""
   ]
  },
  {
   "cell_type": "markdown",
   "id": "44844034",
   "metadata": {},
   "source": [
    "# center()"
   ]
  },
  {
   "cell_type": "code",
   "execution_count": 31,
   "id": "8720dac7",
   "metadata": {},
   "outputs": [
    {
     "data": {
      "text/plain": [
       "'###Tara###'"
      ]
     },
     "execution_count": 31,
     "metadata": {},
     "output_type": "execute_result"
    }
   ],
   "source": [
    "f.center(10,\"#\")"
   ]
  },
  {
   "cell_type": "code",
   "execution_count": null,
   "id": "29448dbc",
   "metadata": {},
   "outputs": [],
   "source": []
  }
 ],
 "metadata": {
  "kernelspec": {
   "display_name": "Python 3 (ipykernel)",
   "language": "python",
   "name": "python3"
  },
  "language_info": {
   "codemirror_mode": {
    "name": "ipython",
    "version": 3
   },
   "file_extension": ".py",
   "mimetype": "text/x-python",
   "name": "python",
   "nbconvert_exporter": "python",
   "pygments_lexer": "ipython3",
   "version": "3.10.9"
  }
 },
 "nbformat": 4,
 "nbformat_minor": 5
}
